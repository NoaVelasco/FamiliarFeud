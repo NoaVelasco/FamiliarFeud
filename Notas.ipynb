{
 "cells": [
  {
   "cell_type": "markdown",
   "metadata": {},
   "source": [
    "# ImpFamiliar Feud\n",
    "\n",
    "Implementación de juego de cartas de 2 jugadores. \n",
    "\n",
    "Características a desarrollar:  "
   ]
  },
  {
   "cell_type": "markdown",
   "metadata": {},
   "source": [
    "## Clase Card\n",
    "El método constructor debería almacenar las siguientes características:\n",
    "- nombre\n",
    "- coste (int)\n",
    "- coste en tipo de contadores (de momento no haré mixtos por simplificar)\n",
    "- tipo\n",
    "\n",
    "Luego necesitaré métodos para establecer el efecto de cada carta.  \n",
    "Me quedan algunas dudas, como por ejemplo si crearé una instancia por cada carta mediante csv o a mano, y cómo trataré los duplicados (¿tal vez ID?)"
   ]
  },
  {
   "cell_type": "code",
   "execution_count": 9,
   "metadata": {},
   "outputs": [],
   "source": [
    "class Card:\n",
    "\n",
    "    def __init__(self, name, cost, counter, type):\n",
    "        self.name = name\n",
    "        self.cost = cost\n",
    "        self.counter = counter\n",
    "        self.type = type\n",
    "\n",
    "    def __str__(self):\n",
    "        return f'name: {self.name}\\ncost: {self.cost}{self.counter}\\ntype: {self.type}'\n",
    "\n"
   ]
  },
  {
   "cell_type": "code",
   "execution_count": 10,
   "metadata": {},
   "outputs": [
    {
     "name": "stdout",
     "output_type": "stream",
     "text": [
      "name: De compras\n",
      "cost: 1⚡\n",
      "type: Action\n",
      "name: Subidón de azúcar\n",
      "cost: 2⚡\n",
      "type: Acción\n"
     ]
    }
   ],
   "source": [
    "# PRUEBAS\n",
    "\n",
    "carta1 = Card('De compras', 1, '⚡', 'Action')\n",
    "print(carta1)\n",
    "carta2 = Card('Subidón de azúcar', 2, '⚡', 'Acción')\n",
    "print(carta2)\n"
   ]
  },
  {
   "cell_type": "markdown",
   "metadata": {},
   "source": [
    "## Clase Deck\n",
    "\n",
    "Existen distintos mazos, por lo que empecemos por lo común:\n",
    "- lista de cartas (init)\n",
    "- barajar (función y llamada a función desde init)\n",
    "- robar carta\n",
    "- recuperar de su descarte (tal vez solo agregar)\n",
    "- len()\n",
    "\n",
    "Los mazos serán:\n",
    "- mejoras\n",
    "- acción\n",
    "- recursos\n",
    "- jugador 1\n",
    "- jugador 2"
   ]
  },
  {
   "cell_type": "code",
   "execution_count": 11,
   "metadata": {},
   "outputs": [],
   "source": [
    "import random"
   ]
  },
  {
   "cell_type": "code",
   "execution_count": 12,
   "metadata": {},
   "outputs": [],
   "source": [
    "class Deck:\n",
    "    \n",
    "    def __init__(self, name, deck):\n",
    "        # deck será una lista donde vengan ya definidas las cartas\n",
    "        self.name = name\n",
    "        self.deck = []\n",
    "        for c in deck:\n",
    "            self.deck.append(c)\n",
    "        self.shuffle()\n",
    "    \n",
    "    def __len__(self):\n",
    "        return len(self.deck)\n",
    "    \n",
    "    def __str__(self):\n",
    "        if len(self) == 0:\n",
    "            return f'<Empty deck>'\n",
    "        else:\n",
    "            str_ret = []\n",
    "            for c in self.deck:\n",
    "                str_ret.append(c.name)\n",
    "            return \", \".join(str_ret)\n",
    "    \n",
    "    def draw_card(self):\n",
    "        self.deck.pop()\n",
    "    \n",
    "    def empty(self):\n",
    "        self.deck = []\n",
    "    \n",
    "    def refill(self, another_deck):\n",
    "        self.deck = another_deck.deck\n",
    "        another_deck.empty()\n",
    "         \n",
    "    def shuffle(self):\n",
    "        random.shuffle(self.deck)\n",
    "        \n"
   ]
  },
  {
   "cell_type": "code",
   "execution_count": 13,
   "metadata": {},
   "outputs": [
    {
     "name": "stdout",
     "output_type": "stream",
     "text": [
      "0\n",
      "Subidón de azúcar, De compras\n",
      "<Empty deck>\n",
      "---\n",
      "<Empty deck>\n",
      "Subidón de azúcar, De compras\n",
      "0\n",
      "2\n"
     ]
    }
   ],
   "source": [
    "# PRUEBAS\n",
    "\n",
    "act_deck = [carta1, carta2]\n",
    "\n",
    "action1 = Deck('action deck init', act_deck)\n",
    "action2 = Deck('action deck extra', act_deck)\n",
    "action2.draw_card()\n",
    "action2.draw_card()\n",
    "print(len(action2))\n",
    "print(action1)\n",
    "print(action2)\n",
    "\n",
    "print('---')\n",
    "\n",
    "action2.refill(action1)\n",
    "# action.refill(act_deck[0])\n",
    "print(action1)\n",
    "print(action2)\n",
    "\n",
    "print(len(action1))\n",
    "print(len(action2))\n"
   ]
  },
  {
   "cell_type": "markdown",
   "metadata": {},
   "source": [
    "## Clase Dice\n",
    "\n",
    "Va a haber 3 y cada uno es ligeramente diferente, así que lo que tendrán en común serán los métodos:\n",
    "- lanzar\n",
    "- agregar a cara\n",
    "- sustituir cara"
   ]
  },
  {
   "cell_type": "markdown",
   "metadata": {},
   "source": [
    "## Dudas\n",
    "\n",
    "- Efectos de cartas y dados: ¿dónde y cómo los implemento? Debería crear un módulo con todos los efectos y llamar desde las cartas o dados concretos."
   ]
  }
 ],
 "metadata": {
  "kernelspec": {
   "display_name": "Python 3.10.2 64-bit",
   "language": "python",
   "name": "python3"
  },
  "language_info": {
   "codemirror_mode": {
    "name": "ipython",
    "version": 3
   },
   "file_extension": ".py",
   "mimetype": "text/x-python",
   "name": "python",
   "nbconvert_exporter": "python",
   "pygments_lexer": "ipython3",
   "version": "3.10.2"
  },
  "orig_nbformat": 4,
  "vscode": {
   "interpreter": {
    "hash": "39b789f43ab4ce5f8b369458ca4c0f6573cd759231c4a20c311c91660bd81436"
   }
  }
 },
 "nbformat": 4,
 "nbformat_minor": 2
}
